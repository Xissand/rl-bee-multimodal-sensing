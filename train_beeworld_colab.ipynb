{
 "cells": [
  {
   "attachments": {},
   "cell_type": "markdown",
   "metadata": {},
   "source": [
    "# Train BeeWorld with TD3 model"
   ]
  },
  {
   "attachments": {},
   "cell_type": "markdown",
   "metadata": {},
   "source": [
    "### Preparation for colab"
   ]
  },
  {
   "cell_type": "code",
   "execution_count": 1,
   "metadata": {},
   "outputs": [],
   "source": [
    "from google.colab import drive\n",
    "drive.mount('/content/drive')"
   ]
  },
  {
   "cell_type": "code",
   "execution_count": 2,
   "metadata": {},
   "outputs": [],
   "source": [
    "!pip install gymnasium\n",
    "!pip install stable_baselines3, moviepy\n",
    "!git clone https://github.com/alTeska/rl-bee-multimodal-sensing.git\n",
    "!mv rl-bee-multimodal-sensing/bee.py ./"
   ]
  },
  {
   "attachments": {},
   "cell_type": "markdown",
   "metadata": {},
   "source": [
    "## Load and setup"
   ]
  },
  {
   "cell_type": "code",
   "execution_count": 3,
   "metadata": {},
   "outputs": [
    {
     "name": "stdout",
     "output_type": "stream",
     "text": [
      "WARNING: For this notebook to perform best, if possible, in the menu under `Runtime` -> `Change runtime type.`  select `GPU` \n"
     ]
    }
   ],
   "source": [
    "import os\n",
    "\n",
    "from utils import create_directory, set_device\n",
    "from train import new_model, load_existing_model, custom_training\n",
    "\n",
    "DEVICE = set_device()"
   ]
  },
  {
   "cell_type": "code",
   "execution_count": 4,
   "metadata": {},
   "outputs": [],
   "source": [
    "# define config as a dict\n",
    "config = {\n",
    "    'setup': {\n",
    "        'path': 'models/bee-world/',\n",
    "        'gym_name': 'BeeWorld',\n",
    "        'algorithm': 'TD3',\n",
    "        'alias': 'round1',\n",
    "        'continue_training': False,\n",
    "        'old_alias': ''\n",
    "    },\n",
    "    'train': {\n",
    "        'timesteps': 2000,\n",
    "        'iter_max': 10,\n",
    "        'policy_kwargs': {'net_arch': [100, 100], 'activation_fn': 'ReLU'},\n",
    "        'learning_rate': 0.001\n",
    "    },\n",
    "    'test': {\n",
    "        'prediction_step': 1000\n",
    "    }\n",
    "}"
   ]
  },
  {
   "cell_type": "code",
   "execution_count": 5,
   "metadata": {},
   "outputs": [],
   "source": [
    "\n",
    "# or Load it from your yml file\n",
    "# with open(\"config.yaml\", \"r\") as file:\n",
    "    # config = yaml.safe_load(file)"
   ]
  },
  {
   "attachments": {},
   "cell_type": "markdown",
   "metadata": {},
   "source": [
    "## Setup model and environment"
   ]
  },
  {
   "cell_type": "code",
   "execution_count": 6,
   "metadata": {},
   "outputs": [
    {
     "data": {
      "text/plain": [
       "'/content/drive/models/bee-world/round1/logs/'"
      ]
     },
     "execution_count": 6,
     "metadata": {},
     "output_type": "execute_result"
    }
   ],
   "source": [
    "tensorboard_path = os.path.join(\"/content/drive/\", config['setup']['path'], config['setup']['alias'], \"logs/\")\n",
    "tensorboard_path"
   ]
  },
  {
   "cell_type": "code",
   "execution_count": 7,
   "metadata": {},
   "outputs": [
    {
     "data": {
      "text/plain": [
       "ERROR: Failed to launch TensorBoard (exited with 1).\n",
       "Contents of stderr:\n",
       "Permission denied"
      ]
     },
     "metadata": {},
     "output_type": "display_data"
    }
   ],
   "source": [
    "%load_ext tensorboard\n",
    "%tensorboard --logdir '/content/drive/models/bee-world/round1/logs/' --port=80"
   ]
  },
  {
   "cell_type": "code",
   "execution_count": 8,
   "metadata": {},
   "outputs": [
    {
     "name": "stdout",
     "output_type": "stream",
     "text": [
      "Creating a new model\n",
      "Logging to models/bee-world/round1/logs\n",
      "Using cpu device\n",
      "Wrapping the env in a DummyVecEnv.\n",
      "Eval num_timesteps=1000, episode_reward=570.73 +/- 513.31\n",
      "Episode length: 559.20 +/- 397.44\n",
      "Success rate: 60.00%\n",
      "---------------------------------\n",
      "| eval/              |          |\n",
      "|    mean_ep_length  | 559      |\n",
      "|    mean_reward     | 571      |\n",
      "|    success_rate    | 0.6      |\n",
      "| time/              |          |\n",
      "|    total_timesteps | 1000     |\n",
      "---------------------------------\n",
      "New best mean reward!\n",
      "---------------------------------\n",
      "| rollout/           |          |\n",
      "|    ep_len_mean     | 477      |\n",
      "|    ep_rew_mean     | 679      |\n",
      "|    success_rate    | 0.75     |\n",
      "| time/              |          |\n",
      "|    episodes        | 4        |\n",
      "|    fps             | 472      |\n",
      "|    time_elapsed    | 4        |\n",
      "|    total_timesteps | 1907     |\n",
      "| train/             |          |\n",
      "|    actor_loss      | -2.49    |\n",
      "|    critic_loss     | 1.84e+03 |\n",
      "|    learning_rate   | 0.001    |\n",
      "|    n_updates       | 1606     |\n",
      "---------------------------------\n",
      "Eval num_timesteps=2000, episode_reward=908.01 +/- 70.68\n",
      "Episode length: 242.60 +/- 186.27\n",
      "Success rate: 100.00%\n",
      "---------------------------------\n",
      "| eval/              |          |\n",
      "|    mean_ep_length  | 243      |\n",
      "|    mean_reward     | 908      |\n",
      "|    success_rate    | 1        |\n",
      "| time/              |          |\n",
      "|    total_timesteps | 2000     |\n",
      "| train/             |          |\n",
      "|    actor_loss      | -4.67    |\n",
      "|    critic_loss     | 3.37e+03 |\n",
      "|    learning_rate   | 0.001    |\n",
      "|    n_updates       | 1907     |\n",
      "---------------------------------\n",
      "New best mean reward!\n"
     ]
    }
   ],
   "source": [
    "custom_training(config)"
   ]
  },
  {
   "attachments": {},
   "cell_type": "markdown",
   "metadata": {},
   "source": [
    "## Train a bit more - NOT ADVISED - better to re run the notebook for your analysis"
   ]
  },
  {
   "cell_type": "code",
   "execution_count": 9,
   "metadata": {},
   "outputs": [],
   "source": [
    "\n",
    "config[\"setup\"][\"continue_training\"] = True\n",
    "config['setup']['alias'] = 'round2'\n",
    "config['setup']['old_alias'] = 'round1'"
   ]
  },
  {
   "cell_type": "code",
   "execution_count": 10,
   "metadata": {},
   "outputs": [
    {
     "name": "stdout",
     "output_type": "stream",
     "text": [
      "Loading existing model\n",
      "Logging to models/bee-world/round2/logs\n"
     ]
    },
    {
     "name": "stderr",
     "output_type": "stream",
     "text": [
      "/Users/teska/phd/classes/neuromatch/venvdl/lib/python3.11/site-packages/gymnasium/envs/registration.py:693: UserWarning: \u001b[33mWARN: Overriding environment BeeWorld already in registry.\u001b[0m\n",
      "  logger.warn(f\"Overriding environment {new_spec.id} already in registry.\")\n"
     ]
    },
    {
     "name": "stdout",
     "output_type": "stream",
     "text": [
      "---------------------------------\n",
      "| rollout/           |          |\n",
      "|    ep_len_mean     | 319      |\n",
      "|    ep_rew_mean     | 802      |\n",
      "|    success_rate    | 0.875    |\n",
      "| time/              |          |\n",
      "|    episodes        | 8        |\n",
      "|    fps             | 947      |\n",
      "|    time_elapsed    | 0        |\n",
      "|    total_timesteps | 2645     |\n",
      "| train/             |          |\n",
      "|    actor_loss      | -4.79    |\n",
      "|    critic_loss     | 11.4     |\n",
      "|    learning_rate   | 0.001    |\n",
      "|    n_updates       | 2230     |\n",
      "---------------------------------\n",
      "Eval num_timesteps=3000, episode_reward=642.76 +/- 633.96\n",
      "Episode length: 262.50 +/- 371.81\n",
      "Success rate: 80.00%\n",
      "---------------------------------\n",
      "| eval/              |          |\n",
      "|    mean_ep_length  | 262      |\n",
      "|    mean_reward     | 643      |\n",
      "|    success_rate    | 0.8      |\n",
      "| time/              |          |\n",
      "|    total_timesteps | 3000     |\n",
      "| train/             |          |\n",
      "|    actor_loss      | -14.3    |\n",
      "|    critic_loss     | 6.02e+03 |\n",
      "|    learning_rate   | 0.001    |\n",
      "|    n_updates       | 2552     |\n",
      "---------------------------------\n",
      "New best mean reward!\n",
      "Eval num_timesteps=4000, episode_reward=-286.33 +/- 639.26\n",
      "Episode length: 803.30 +/- 393.46\n",
      "Success rate: 20.00%\n",
      "---------------------------------\n",
      "| eval/              |          |\n",
      "|    mean_ep_length  | 803      |\n",
      "|    mean_reward     | -286     |\n",
      "|    success_rate    | 0.2      |\n",
      "| time/              |          |\n",
      "|    total_timesteps | 4000     |\n",
      "---------------------------------\n"
     ]
    }
   ],
   "source": [
    "custom_training(config)"
   ]
  },
  {
   "cell_type": "code",
   "execution_count": null,
   "metadata": {},
   "outputs": [],
   "source": []
  }
 ],
 "metadata": {
  "kernelspec": {
   "display_name": "venvdl",
   "language": "python",
   "name": "python3"
  },
  "language_info": {
   "codemirror_mode": {
    "name": "ipython",
    "version": 3
   },
   "file_extension": ".py",
   "mimetype": "text/x-python",
   "name": "python",
   "nbconvert_exporter": "python",
   "pygments_lexer": "ipython3",
   "version": "3.11.4"
  },
  "orig_nbformat": 4
 },
 "nbformat": 4,
 "nbformat_minor": 2
}
