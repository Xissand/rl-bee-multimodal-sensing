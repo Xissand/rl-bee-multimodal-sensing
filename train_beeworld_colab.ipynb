{
 "cells": [
  {
   "attachments": {},
   "cell_type": "markdown",
   "metadata": {},
   "source": [
    "# Train BeeWorld with TD3 model"
   ]
  },
  {
   "attachments": {},
   "cell_type": "markdown",
   "metadata": {},
   "source": [
    "### Preparation for colab"
   ]
  },
  {
   "cell_type": "code",
   "execution_count": 1,
   "metadata": {},
   "outputs": [],
   "source": [
    "from google.colab import drive\n",
    "drive.mount('/content/drive')"
   ]
  },
  {
   "cell_type": "code",
   "execution_count": 2,
   "metadata": {},
   "outputs": [],
   "source": [
    "!pip install gymnasium\n",
    "!pip install stable_baselines3, moviepy\n",
    "!git clone https://github.com/alTeska/rl-bee-multimodal-sensing.git\n",
    "!mv rl-bee-multimodal-sensing/bee.py ./"
   ]
  },
  {
   "attachments": {},
   "cell_type": "markdown",
   "metadata": {},
   "source": [
    "## Load and setup"
   ]
  },
  {
   "cell_type": "code",
   "execution_count": 3,
   "metadata": {},
   "outputs": [
    {
     "name": "stdout",
     "output_type": "stream",
     "text": [
      "WARNING: For this notebook to perform best, if possible, in the menu under `Runtime` -> `Change runtime type.`  select `GPU` \n"
     ]
    }
   ],
   "source": [
    "import os\n",
    "from train_model import custom_training\n",
    "from utils import create_directory, set_device\n",
    "\n",
    "DEVICE = set_device()"
   ]
  },
  {
   "cell_type": "code",
   "execution_count": 4,
   "metadata": {},
   "outputs": [],
   "source": [
    "# define config as a dict\n",
    "config = {\n",
    "    \"setup\": {\n",
    "        \"path\": \"models/bee-world-1000/\",\n",
    "        \"alias\": \"round1\",\n",
    "        \"continue_training\": False,\n",
    "        \"old_alias\": \"round1\"\n",
    "    },\n",
    "    \"env\": {\n",
    "        \"algorithm\": \"TD3\",\n",
    "        \"gym_name\": \"BeeWorld\",\n",
    "        \"render_mode\": \"rgb_array\",\n",
    "        \"walls\": [[[5.0, 0.0], [5.0, 5.0]]],\n",
    "        \"goal_size\": 1.0,\n",
    "        \"video\": True\n",
    "    },\n",
    "    \"train\": {\n",
    "        \"timesteps\": 500_000,\n",
    "        \"max_episode_steps\": 1000,\n",
    "        \"policy_kwargs\": {\"net_arch\": [200, 100], \"activation_fn\": \"ReLU\"},\n",
    "        \"learning_rate\": 0.001,\n",
    "        \"max_no_improvement_evals\": 100,\n",
    "        \"eval_freq\": 1000\n",
    "    },\n",
    "    \"test\": {\n",
    "        \"prediction_steps\": 1000\n",
    "    }\n",
    "}\n"
   ]
  },
  {
   "cell_type": "code",
   "execution_count": 5,
   "metadata": {},
   "outputs": [],
   "source": [
    "\n",
    "# or Load it from your yml file\n",
    "# with open(\"config.yaml\", \"r\") as file:\n",
    "    # config = yaml.safe_load(file)"
   ]
  },
  {
   "attachments": {},
   "cell_type": "markdown",
   "metadata": {},
   "source": [
    "## Setup model and environment"
   ]
  },
  {
   "cell_type": "code",
   "execution_count": 6,
   "metadata": {},
   "outputs": [
    {
     "data": {
      "text/plain": [
       "'/content/drive/models/bee-world/round1/logs/'"
      ]
     },
     "execution_count": 6,
     "metadata": {},
     "output_type": "execute_result"
    }
   ],
   "source": [
    "tensorboard_path = os.path.join(\"/content/drive/\", config['setup']['path'], config['setup']['alias'], \"logs/\")\n",
    "tensorboard_path"
   ]
  },
  {
   "cell_type": "code",
   "execution_count": 7,
   "metadata": {},
   "outputs": [
    {
     "data": {
      "text/plain": [
       "ERROR: Failed to launch TensorBoard (exited with 1).\n",
       "Contents of stderr:\n",
       "Permission denied"
      ]
     },
     "metadata": {},
     "output_type": "display_data"
    }
   ],
   "source": [
    "%load_ext tensorboard\n",
    "%tensorboard --logdir '/content/drive/models/bee-world/round1/logs/' --port=80"
   ]
  },
  {
   "cell_type": "code",
   "execution_count": 8,
   "metadata": {},
   "outputs": [
    {
     "name": "stdout",
     "output_type": "stream",
     "text": [
      "Logging to models/bee-world/round1/logs\n",
      "Creating a new model\n",
      "Using cpu device\n",
      "Wrapping the env in a DummyVecEnv.\n",
      "Eval num_timesteps=1000, episode_reward=739.90 +/- 466.68\n",
      "Episode length: 254.00 +/- 261.35\n",
      "Success rate: 90.00%\n",
      "---------------------------------\n",
      "| eval/              |          |\n",
      "|    mean_ep_length  | 254      |\n",
      "|    mean_reward     | 740      |\n",
      "|    success_rate    | 0.9      |\n",
      "| time/              |          |\n",
      "|    total_timesteps | 1000     |\n",
      "| train/             |          |\n",
      "|    actor_loss      | -4.66    |\n",
      "|    critic_loss     | 2.8e+03  |\n",
      "|    learning_rate   | 0.001    |\n",
      "|    n_updates       | 667      |\n",
      "---------------------------------\n",
      "New best mean reward!\n",
      "Eval num_timesteps=2000, episode_reward=854.33 +/- 335.35\n",
      "Episode length: 309.60 +/- 300.65\n",
      "Success rate: 90.00%\n",
      "---------------------------------\n",
      "| eval/              |          |\n",
      "|    mean_ep_length  | 310      |\n",
      "|    mean_reward     | 854      |\n",
      "|    success_rate    | 0.9      |\n",
      "| time/              |          |\n",
      "|    total_timesteps | 2000     |\n",
      "| train/             |          |\n",
      "|    actor_loss      | -11.1    |\n",
      "|    critic_loss     | 3.01e+03 |\n",
      "|    learning_rate   | 0.001    |\n",
      "|    n_updates       | 1164     |\n",
      "---------------------------------\n",
      "New best mean reward!\n"
     ]
    }
   ],
   "source": [
    "custom_training(config)"
   ]
  },
  {
   "attachments": {},
   "cell_type": "markdown",
   "metadata": {},
   "source": [
    "## Train a bit more - NOT ADVISED - better to re run the notebook for your analysis"
   ]
  },
  {
   "cell_type": "code",
   "execution_count": 9,
   "metadata": {},
   "outputs": [],
   "source": [
    "\n",
    "config[\"setup\"][\"continue_training\"] = True\n",
    "config['setup']['alias'] = 'round2'\n",
    "config['setup']['old_alias'] = 'round1'"
   ]
  },
  {
   "cell_type": "code",
   "execution_count": 10,
   "metadata": {},
   "outputs": [
    {
     "name": "stdout",
     "output_type": "stream",
     "text": [
      "Logging to models/bee-world/round2/logs\n"
     ]
    },
    {
     "name": "stderr",
     "output_type": "stream",
     "text": [
      "/Users/teska/phd/classes/neuromatch/venvdl/lib/python3.11/site-packages/gymnasium/envs/registration.py:693: UserWarning: \u001b[33mWARN: Overriding environment BeeWorld already in registry.\u001b[0m\n",
      "  logger.warn(f\"Overriding environment {new_spec.id} already in registry.\")\n"
     ]
    },
    {
     "name": "stdout",
     "output_type": "stream",
     "text": [
      "Loading existing model\n",
      "---------------------------------\n",
      "| rollout/           |          |\n",
      "|    ep_len_mean     | 236      |\n",
      "|    ep_rew_mean     | 960      |\n",
      "|    success_rate    | 1        |\n",
      "| time/              |          |\n",
      "|    episodes        | 4        |\n",
      "|    fps             | 446      |\n",
      "|    time_elapsed    | 0        |\n",
      "|    total_timesteps | 2111     |\n",
      "| train/             |          |\n",
      "|    actor_loss      | -11.7    |\n",
      "|    critic_loss     | 3.72e+03 |\n",
      "|    learning_rate   | 0.001    |\n",
      "|    n_updates       | 1274     |\n",
      "---------------------------------\n",
      "Eval num_timesteps=3000, episode_reward=672.48 +/- 383.39\n",
      "Episode length: 610.50 +/- 406.45\n",
      "Success rate: 90.00%\n",
      "---------------------------------\n",
      "| eval/              |          |\n",
      "|    mean_ep_length  | 610      |\n",
      "|    mean_reward     | 672      |\n",
      "|    success_rate    | 0.9      |\n",
      "| time/              |          |\n",
      "|    total_timesteps | 3000     |\n",
      "| train/             |          |\n",
      "|    actor_loss      | -45      |\n",
      "|    critic_loss     | 4.63e+03 |\n",
      "|    learning_rate   | 0.001    |\n",
      "|    n_updates       | 2092     |\n",
      "---------------------------------\n",
      "New best mean reward!\n",
      "---------------------------------\n",
      "| rollout/           |          |\n",
      "|    ep_len_mean     | 334      |\n",
      "|    ep_rew_mean     | 921      |\n",
      "|    success_rate    | 1        |\n",
      "| time/              |          |\n",
      "|    episodes        | 8        |\n",
      "|    fps             | 576      |\n",
      "|    time_elapsed    | 3        |\n",
      "|    total_timesteps | 3912     |\n",
      "---------------------------------\n",
      "Eval num_timesteps=4000, episode_reward=936.90 +/- 66.03\n",
      "Episode length: 232.60 +/- 243.00\n",
      "Success rate: 100.00%\n",
      "---------------------------------\n",
      "| eval/              |          |\n",
      "|    mean_ep_length  | 233      |\n",
      "|    mean_reward     | 937      |\n",
      "|    success_rate    | 1        |\n",
      "| time/              |          |\n",
      "|    total_timesteps | 4000     |\n",
      "| train/             |          |\n",
      "|    actor_loss      | -72.5    |\n",
      "|    critic_loss     | 2.4e+04  |\n",
      "|    learning_rate   | 0.001    |\n",
      "|    n_updates       | 3077     |\n",
      "---------------------------------\n",
      "New best mean reward!\n"
     ]
    }
   ],
   "source": [
    "custom_training(config)"
   ]
  },
  {
   "cell_type": "code",
   "execution_count": null,
   "metadata": {},
   "outputs": [],
   "source": []
  }
 ],
 "metadata": {
  "kernelspec": {
   "display_name": "venvdl",
   "language": "python",
   "name": "python3"
  },
  "language_info": {
   "codemirror_mode": {
    "name": "ipython",
    "version": 3
   },
   "file_extension": ".py",
   "mimetype": "text/x-python",
   "name": "python",
   "nbconvert_exporter": "python",
   "pygments_lexer": "ipython3",
   "version": "3.11.4"
  },
  "orig_nbformat": 4
 },
 "nbformat": 4,
 "nbformat_minor": 2
}
