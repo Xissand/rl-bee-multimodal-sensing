{
  "cells": [
    {
      "cell_type": "markdown",
      "metadata": {
        "id": "IJi1lj-QUr7b"
      },
      "source": [
        "# Test the BeeWorld environment in Colab post training"
      ]
    },
    {
      "cell_type": "markdown",
      "metadata": {
        "id": "V-iKdGG9Ur7c"
      },
      "source": [
        "### Preparation for colab"
      ]
    },
    {
      "cell_type": "code",
      "execution_count": null,
      "metadata": {
        "id": "7uUl4k4BUr7d"
      },
      "outputs": [],
      "source": [
        "from google.colab import drive\n",
        "drive.mount('/content/drive')"
      ]
    },
    {
      "cell_type": "code",
      "execution_count": null,
      "metadata": {
        "id": "Mzpji8BGUr7e"
      },
      "outputs": [],
      "source": [
        "!pip install gymnasium\n",
        "!pip install trange, tqdm, moviepy\n",
        "!pip install stable_baselines3\n",
        "!git clone https://github.com/alTeska/rl-bee-multimodal-sensing.git\n",
        "!mv rl-bee-multimodal-sensing/bee.py ./\n",
        "!mv rl-bee-multimodal-sensing/render_model.py ./\n",
        "!mv rl-bee-multimodal-sensing/model.py ./\n",
        "!mv rl-bee-multimodal-sensing/utils.py ./"
      ]
    },
    {
      "cell_type": "markdown",
      "metadata": {
        "id": "ZTqR54zZUr7e"
      },
      "source": [
        "## Load and setup"
      ]
    },
    {
      "cell_type": "code",
      "execution_count": null,
      "metadata": {
        "id": "YOkAPWJfUr7e"
      },
      "outputs": [],
      "source": [
        "import os\n",
        "from render_model import render_prediction\n",
        "from model import init_gym, load_model\n",
        "from utils import set_device, display_video\n",
        "\n",
        "DEVICE = set_device()"
      ]
    },
    {
      "cell_type": "code",
      "execution_count": null,
      "metadata": {
        "id": "Ax6IZ0ajUr7f"
      },
      "outputs": [],
      "source": [
        "# define config as a dict\n",
        "config = {\n",
        "    \"setup\": {\n",
        "        \"path\": \"models/bee-world-1000/\",\n",
        "        \"alias\": \"round1\",\n",
        "        \"continue_training\": False,\n",
        "        \"old_alias\": \"round1\"\n",
        "    },\n",
        "    \"env\": {\n",
        "        \"algorithm\": \"TD3\",\n",
        "        \"gym_name\": \"BeeWorld\",\n",
        "        \"render_mode\": \"rgb_array\",\n",
        "        \"walls\": [[[5.0, 0.0], [5.0, 5.0]]],\n",
        "        \"goal_size\": 1.0,\n",
        "        \"video\": True\n",
        "    },\n",
        "    \"train\": {\n",
        "        \"timesteps\": 500_000,\n",
        "        \"max_episode_steps\": 1000,\n",
        "        \"policy_kwargs\": {\"net_arch\": [200, 100], \"activation_fn\": \"ReLU\"},\n",
        "        \"learning_rate\": 0.001,\n",
        "        \"max_no_improvement_evals\": 100,\n",
        "        \"eval_freq\": 1000\n",
        "    },\n",
        "    \"test\": {\n",
        "        \"prediction_steps\": 1000\n",
        "    }\n",
        "}\n"
      ]
    },
    {
      "cell_type": "code",
      "execution_count": null,
      "metadata": {
        "id": "l9usGooFUr7f"
      },
      "outputs": [],
      "source": [
        "# or Load it from your yml file\n",
        "\n",
        "# with open(\"config.yaml\", \"r\") as file:\n",
        "    # config = yaml.safe_load(file)"
      ]
    },
    {
      "cell_type": "markdown",
      "metadata": {
        "id": "LGjDxlnYUr7g"
      },
      "source": [
        "## Render and display the video"
      ]
    },
    {
      "cell_type": "code",
      "execution_count": null,
      "metadata": {
        "id": "bgxPhioWUr7g"
      },
      "outputs": [],
      "source": [
        "alias = config[\"setup\"][\"alias\"]\n",
        "\n",
        "output_path = os.path.join(config[\"setup\"][\"path\"], alias)\n",
        "\n",
        "# load model\n",
        "env = init_gym(config[\"env\"][\"gym_name\"], render_mode=\"rgb_array\")\n",
        "model = load_model(env, output_path, replay_buffer=None, logger=None)\n",
        "frames = render_prediction(model, config[\"test\"][\"prediction_steps\"])\n",
        "\n",
        "env.close()"
      ]
    },
    {
      "cell_type": "code",
      "execution_count": null,
      "metadata": {
        "id": "e4d5tpWUUr7h"
      },
      "outputs": [],
      "source": [
        "display_video(frames, framerate=50)"
      ]
    },
    {
      "cell_type": "code",
      "execution_count": null,
      "metadata": {
        "id": "Fb8OlJVLUr7h"
      },
      "outputs": [],
      "source": []
    }
  ],
  "metadata": {
    "kernelspec": {
      "display_name": "venvdl",
      "language": "python",
      "name": "python3"
    },
    "language_info": {
      "codemirror_mode": {
        "name": "ipython",
        "version": 3
      },
      "file_extension": ".py",
      "mimetype": "text/x-python",
      "name": "python",
      "nbconvert_exporter": "python",
      "pygments_lexer": "ipython3",
      "version": "3.11.4"
    },
    "orig_nbformat": 4,
    "colab": {
      "provenance": []
    }
  },
  "nbformat": 4,
  "nbformat_minor": 0
}