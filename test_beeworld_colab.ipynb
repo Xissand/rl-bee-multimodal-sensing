{
 "cells": [
  {
   "attachments": {},
   "cell_type": "markdown",
   "metadata": {},
   "source": [
    "# Test the BeeWorld environment in Colab post training"
   ]
  },
  {
   "attachments": {},
   "cell_type": "markdown",
   "metadata": {},
   "source": [
    "### Preparation for colab"
   ]
  },
  {
   "cell_type": "code",
   "execution_count": null,
   "metadata": {},
   "outputs": [],
   "source": [
    "from google.colab import drive\n",
    "drive.mount('/content/drive')"
   ]
  },
  {
   "cell_type": "code",
   "execution_count": null,
   "metadata": {},
   "outputs": [],
   "source": [
    "!pip install gymnasium\n",
    "!pip install trange, tqdm\n",
    "!pip install stable_baselines3\n",
    "!git clone https://github.com/alTeska/rl-bee-multimodal-sensing.git\n",
    "!mv rl-bee-multimodal-sensing/bee.py ./"
   ]
  },
  {
   "attachments": {},
   "cell_type": "markdown",
   "metadata": {},
   "source": [
    "## Load and setup"
   ]
  },
  {
   "cell_type": "code",
   "execution_count": null,
   "metadata": {},
   "outputs": [],
   "source": [
    "import gymnasium as gym\n",
    "from tqdm.notebook import trange, tqdm\n",
    "from test import retrieve_latest_model_path, load_model\n",
    "from utils import set_device, display_video\n",
    "\n",
    "DEVICE = set_device()"
   ]
  },
  {
   "cell_type": "code",
   "execution_count": null,
   "metadata": {},
   "outputs": [],
   "source": [
    "gym_name = \"BeeWorld\"\n",
    "base_path = \"drive/MyDrive/neuromatch/\"\n",
    "model_algo = \"TD3\"\n",
    "prediction_steps = 1000"
   ]
  },
  {
   "cell_type": "code",
   "execution_count": null,
   "metadata": {},
   "outputs": [],
   "source": [
    "models_path = base_path + \"models/\" + model_algo\n",
    "latest_model_path = retrieve_latest_model_path(models_path)\n",
    "\n",
    "loaded_model = load_model(latest_model_path)\n",
    "\n",
    "vec_env = loaded_model.get_env()\n",
    "obs = vec_env.reset()\n",
    "\n",
    "frames = []\n",
    "for i in trange(prediction_steps):\n",
    "    action, _states = loaded_model.predict(obs)\n",
    "    obs, rewards, dones, info = vec_env.step(action)\n",
    "\n",
    "    frames.append(vec_env.render())"
   ]
  },
  {
   "cell_type": "code",
   "execution_count": null,
   "metadata": {},
   "outputs": [],
   "source": [
    "display_video(frames, framerate=50)"
   ]
  }
 ],
 "metadata": {
  "language_info": {
   "name": "python"
  },
  "orig_nbformat": 4
 },
 "nbformat": 4,
 "nbformat_minor": 2
}
