{
 "cells": [
  {
   "attachments": {},
   "cell_type": "markdown",
   "metadata": {},
   "source": [
    "# Test the BeeWorld environment in Colab post training"
   ]
  },
  {
   "attachments": {},
   "cell_type": "markdown",
   "metadata": {},
   "source": [
    "### Preparation for colab"
   ]
  },
  {
   "cell_type": "code",
   "execution_count": null,
   "metadata": {},
   "outputs": [],
   "source": [
    "from google.colab import drive\n",
    "drive.mount('/content/drive')"
   ]
  },
  {
   "cell_type": "code",
   "execution_count": null,
   "metadata": {},
   "outputs": [],
   "source": [
    "!pip install gymnasium\n",
    "!pip install trange, tqdm, moviepy\n",
    "!pip install stable_baselines3, \n",
    "!git clone https://github.com/alTeska/rl-bee-multimodal-sensing.git\n",
    "!mv rl-bee-multimodal-sensing/bee.py ./"
   ]
  },
  {
   "attachments": {},
   "cell_type": "markdown",
   "metadata": {},
   "source": [
    "## Load and setup"
   ]
  },
  {
   "cell_type": "code",
   "execution_count": null,
   "metadata": {},
   "outputs": [],
   "source": [
    "import os\n",
    "from test import render_prediction\n",
    "from model import init_gym, load_model\n",
    "from utils import set_device, display_video\n",
    "\n",
    "DEVICE = set_device()"
   ]
  },
  {
   "cell_type": "code",
   "execution_count": null,
   "metadata": {},
   "outputs": [],
   "source": [
    "# define config as a dict\n",
    "config = {\n",
    "    'setup': {\n",
    "        'path': 'models/bee-world/',\n",
    "        'gym_name': 'BeeWorld',\n",
    "        'algorithm': 'TD3',\n",
    "        'alias': 'round1',\n",
    "        'continue_training': False,\n",
    "        'old_alias': ''\n",
    "    },\n",
    "    'train': {\n",
    "        'timesteps': 2000,\n",
    "        'iter_max': 10,\n",
    "        'policy_kwargs': {'net_arch': [100, 100], 'activation_fn': 'ReLU'},\n",
    "        'learning_rate': 0.001\n",
    "    },\n",
    "    'test': {\n",
    "        'prediction_steps': 1000\n",
    "    }\n",
    "}"
   ]
  },
  {
   "cell_type": "code",
   "execution_count": null,
   "metadata": {},
   "outputs": [],
   "source": [
    "# or Load it from your yml file\n",
    "\n",
    "# with open(\"config.yaml\", \"r\") as file:\n",
    "    # config = yaml.safe_load(file)"
   ]
  },
  {
   "attachments": {},
   "cell_type": "markdown",
   "metadata": {},
   "source": [
    "## Render and display the video"
   ]
  },
  {
   "cell_type": "code",
   "execution_count": null,
   "metadata": {},
   "outputs": [],
   "source": [
    "alias = config[\"setup\"][\"alias\"]\n",
    "\n",
    "output_path = os.path.join(config[\"setup\"][\"path\"], alias)\n",
    "\n",
    "# load model\n",
    "env = init_gym(config[\"setup\"][\"gym_name\"], render_mode=\"rgb_array\")\n",
    "model = load_model(env, output_path, replay_buffer=None, logger=None)\n",
    "frames = render_prediction(model, config[\"test\"][\"prediction_steps\"])"
   ]
  },
  {
   "cell_type": "code",
   "execution_count": null,
   "metadata": {},
   "outputs": [],
   "source": [
    "display_video(frames, framerate=50)"
   ]
  },
  {
   "cell_type": "code",
   "execution_count": null,
   "metadata": {},
   "outputs": [],
   "source": []
  }
 ],
 "metadata": {
  "kernelspec": {
   "display_name": "venvdl",
   "language": "python",
   "name": "python3"
  },
  "language_info": {
   "codemirror_mode": {
    "name": "ipython",
    "version": 3
   },
   "file_extension": ".py",
   "mimetype": "text/x-python",
   "name": "python",
   "nbconvert_exporter": "python",
   "pygments_lexer": "ipython3",
   "version": "3.11.4"
  },
  "orig_nbformat": 4
 },
 "nbformat": 4,
 "nbformat_minor": 2
}
